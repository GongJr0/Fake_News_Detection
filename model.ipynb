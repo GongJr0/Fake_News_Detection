{
 "cells": [
  {
   "cell_type": "code",
   "execution_count": 1,
   "metadata": {},
   "outputs": [],
   "source": [
    "#Data Container import\n",
    "from class_DataContainer import DataContainer\n",
    "\n",
    "#Data Preprocessing imports\n",
    "import pandas as pd\n",
    "import numpy as np\n",
    "import string\n",
    "\n",
    "#Classification imports\n",
    "from sklearn.model_selection import train_test_split\n",
    "from sklearn.model_selection import GridSearchCV\n",
    "\n",
    "from sklearn.ensemble import RandomForestClassifier\n",
    "\n",
    "#Plotting imports\n",
    "import matplotlib.pyplot as plt"
   ]
  },
  {
   "cell_type": "code",
   "execution_count": 2,
   "metadata": {},
   "outputs": [],
   "source": [
    "p = {'true': './True.csv', 'fake': './Fake.csv'}\n",
    "data = DataContainer(paths=p)\n",
    "    \n",
    "outlier = ['https://fedup.wpengine.com/wp-content/uploads/2015/04/hillarystreetart.jpg',\n",
    "'https://fedup.wpengine.com/wp-content/uploads/2015/04/entitled.jpg',\n",
    "'https://100percentfedup.com/12-yr-old-black-conservative-whose-video-to-obama-went-viral-do-you-really-love-america-receives-death-threats-from-left/',\n",
    "'https://100percentfedup.com/video-hillary-asked-about-trump-i-just-want-to-eat-some-pie/',\n",
    "'MSNBC HOST Rudely Assumes Steel Worker Would Never Let His Son Follow in His Footsteps…He Couldn’t Be More Wrong [Video]',\n",
    "'https://100percentfedup.com/served-roy-moore-vietnamletter-veteran-sets-record-straight-honorable-decent-respectable-patriotic-commander-soldier/']\n",
    "\n",
    "for date in data.data[\"date\"]:\n",
    "   if date in outlier:\n",
    "       data.data.drop(data.data[data.data[\"date\"] == date].index, inplace=True)"
   ]
  },
  {
   "cell_type": "code",
   "execution_count": 3,
   "metadata": {},
   "outputs": [
    {
     "name": "stdout",
     "output_type": "stream",
     "text": [
      "<class 'pandas.core.frame.DataFrame'>\n",
      "Index: 44888 entries, 0 to 44897\n",
      "Data columns (total 21 columns):\n",
      " #   Column              Non-Null Count  Dtype         \n",
      "---  ------              --------------  -----         \n",
      " 0   title               44888 non-null  object        \n",
      " 1   text                44888 non-null  object        \n",
      " 2   subject             44888 non-null  int8          \n",
      " 3   date                44888 non-null  datetime64[ns]\n",
      " 4   label               44888 non-null  int8          \n",
      " 5   length              44888 non-null  int32         \n",
      " 6   length_title        44888 non-null  int16         \n",
      " 7   upper               44888 non-null  int16         \n",
      " 8   upper_title         44888 non-null  int8          \n",
      " 9   lower               44888 non-null  int16         \n",
      " 10  lower_title         44888 non-null  int8          \n",
      " 11  punctuation         44888 non-null  int8          \n",
      " 12  punctuation_title   44888 non-null  int8          \n",
      " 13  exclamation         44888 non-null  int8          \n",
      " 14  exclamation_title   44888 non-null  int8          \n",
      " 15  question            44888 non-null  int8          \n",
      " 16  question_title      44888 non-null  int8          \n",
      " 17  numeric             44888 non-null  int8          \n",
      " 18  numeric_title       44888 non-null  int8          \n",
      " 19  unique_words        44888 non-null  int16         \n",
      " 20  unique_words_title  44888 non-null  int8          \n",
      "dtypes: datetime64[ns](1), int16(4), int32(1), int8(13), object(2)\n",
      "memory usage: 145.0 MB\n"
     ]
    }
   ],
   "source": [
    "#Feature Engineering\n",
    "# len str\n",
    "# count upper\n",
    "# count lower\n",
    "# count punctuation\n",
    "# subject encode\n",
    "\n",
    "data.data['length'] = data.data['text'].apply(len)\n",
    "data.data['length_title'] = data.data['title'].apply(len)\n",
    "\n",
    "data.data['upper'] = data.data['text'].apply(lambda x: len([x for x in x.split() if x.isupper()]))\n",
    "data.data['upper_title'] = data.data['title'].apply(lambda x: len([x for x in x.split() if x.isupper()]))\n",
    "\n",
    "data.data['lower'] = data.data['text'].apply(lambda x: len([x for x in x.split() if x.islower()]))\n",
    "data.data['lower_title'] = data.data['title'].apply(lambda x: len([x for x in x.split() if x.islower()]))\n",
    "\n",
    "data.data['punctuation'] = data.data['text'].apply(lambda x: len([x for x in x.split() if x in string.punctuation]))\n",
    "data.data['punctuation_title'] = data.data['title'].apply(lambda x: len([x for x in x.split() if x in string.punctuation]))\n",
    "\n",
    "data.data['exclamation'] = data.data['text'].apply(lambda x: len([x for x in x.split() if x == '!']))\n",
    "data.data['exclamation_title'] = data.data['title'].apply(lambda x: len([x for x in x.split() if x == '!']))\n",
    "\n",
    "data.data['question'] = data.data['text'].apply(lambda x: len([x for x in x.split() if x == '?']))\n",
    "data.data['question_title'] = data.data['title'].apply(lambda x: len([x for x in x.split() if x == '?']))\n",
    "\n",
    "data.data['numeric'] = data.data['text'].apply(lambda x: len([x for x in x.split() if x.isdigit()]))\n",
    "data.data['numeric_title'] = data.data['title'].apply(lambda x: len([x for x in x.split() if x.isdigit()]))\n",
    "\n",
    "data.data['unique_words'] = data.data['text'].apply(lambda x: len(set(x.split())))\n",
    "data.data['unique_words_title'] = data.data['title'].apply(lambda x: len(set(x.split())))\n",
    "\n",
    "data.categorical('subject')\n",
    "data.encode_categorical()\n",
    "\n",
    "data.date('date') #Date data has varying formats, datetime conversion may mix day and month.\n",
    "\n",
    "data.optimize_int()\n",
    "data.optimize_float()\n",
    "\n",
    "\n",
    "data.info"
   ]
  },
  {
   "cell_type": "code",
   "execution_count": 4,
   "metadata": {},
   "outputs": [
    {
     "data": {
      "text/plain": [
       "{'criterion': 'log_loss',\n",
       " 'max_depth': 8,\n",
       " 'max_features': 'log2',\n",
       " 'n_estimators': 100,\n",
       " 'n_jobs': -1}"
      ]
     },
     "execution_count": 4,
     "metadata": {},
     "output_type": "execute_result"
    }
   ],
   "source": [
    "data.feature_split(label=['label'], exclude=['date', 'text', 'title'])\n",
    "\n",
    "X_train, X_test, y_train, y_test = train_test_split(data.feature, data.label, test_size=0.2, random_state=99)\n",
    "\n",
    "model = RandomForestClassifier()\n",
    "param_grid = {\n",
    "    'n_estimators': [100, 200, 300],\n",
    "    'max_features': ['sqrt', 'log2'],\n",
    "    'max_depth' : [4,5,6,7,8],\n",
    "    'criterion' :['gini', 'entropy', 'log_loss'],\n",
    "    'n_jobs' : [-1]\n",
    "}\n",
    "gs = GridSearchCV(model, param_grid, cv=5, n_jobs=-1)\n",
    "gs.fit(X_train, y_train.values.ravel())\n",
    "gs.best_params_"
   ]
  },
  {
   "cell_type": "code",
   "execution_count": 5,
   "metadata": {},
   "outputs": [
    {
     "data": {
      "text/plain": [
       "0.9997772332368011"
      ]
     },
     "execution_count": 5,
     "metadata": {},
     "output_type": "execute_result"
    }
   ],
   "source": [
    "model.set_params(**gs.best_params_)\n",
    "model.fit(X_train, y_train.values.ravel())\n",
    "model.score(X_test, y_test)"
   ]
  },
  {
   "cell_type": "code",
   "execution_count": 8,
   "metadata": {},
   "outputs": [],
   "source": [
    "pred = model.predict(X_test)\n"
   ]
  }
 ],
 "metadata": {
  "kernelspec": {
   "display_name": "Python 3",
   "language": "python",
   "name": "python3"
  },
  "language_info": {
   "codemirror_mode": {
    "name": "ipython",
    "version": 3
   },
   "file_extension": ".py",
   "mimetype": "text/x-python",
   "name": "python",
   "nbconvert_exporter": "python",
   "pygments_lexer": "ipython3",
   "version": "3.11.6"
  }
 },
 "nbformat": 4,
 "nbformat_minor": 2
}
